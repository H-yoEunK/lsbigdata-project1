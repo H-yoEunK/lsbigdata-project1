{
  "cells": [
    {
      "cell_type": "raw",
      "metadata": {},
      "source": [
        "---\n",
        "title: LS 빅데이터 스쿨 3일차\n",
        "format: html\n",
        "editor_options:\n",
        "  chunk_output_type: inline\n",
        "---"
      ],
      "id": "7b7dffc5"
    },
    {
      "cell_type": "markdown",
      "metadata": {},
      "source": [
        "## Quarto\n",
        "\n",
        "Quarto enables you to weave together content and executable code into a finished document. To learn more about Quarto see <https://quarto.org>.\n",
        "\n",
        "## 파이썬 코드 청크\n",
        "\n",
        "파이썬 코드 청크는 다음과 같은 단축키를 통해서 넣을 수 있음. \\* 단축키 `Ctrl + Alt + I`\n",
        "\n",
        "## 코드 청크 종류\n",
        "\n",
        "2가지 종류가 있음\n",
        "\n",
        "1.  인라인 코드 청크: 백틱 하나로 묶음\n",
        "2.  디스플레이 코드 청크: 백틱 세 개로 묶음음\n",
        "\n",
        "### 실행 가능한 코드 청크\n",
        "\n",
        "백틱 뒤에 `{python}`을 붙여주면 됨.\n"
      ],
      "id": "a6177492"
    },
    {
      "cell_type": "code",
      "metadata": {},
      "source": [
        "1+1"
      ],
      "id": "e2bd593d",
      "execution_count": null,
      "outputs": []
    },
    {
      "cell_type": "markdown",
      "metadata": {},
      "source": [
        "## 코드 청크 실행 옵션\n",
        "\n",
        "옵션은 `#|` 시작함.\n",
        "\n",
        "-   `echo` 옵션: 코드를 문서에 보여줌\n",
        "-   `eval` 옵션: 코드를 돌릴 것인가, 그냥 둘 것인가를 결정\n",
        "\n",
        "``` ㅊ\n",
        "#| echo: true\n",
        "#| eval: true\n",
        "1 + 1\n",
        "```\n",
        "\n",
        "## 각주\n",
        "\n",
        "이것은 간단한 각주[^1]입니다.\n",
        "\n",
        "[^1]: 이것은 참조된 텍스트트\n",
        "\n",
        "## 취소선, 굵게, 이탤릭\n",
        "\n",
        "**굵게** 별표 두 개로 감싸기 *기울기*는 하나 ~~취소~~는 물결 두 개\n",
        "\n",
        "## 체크박스\n",
        "\n",
        "-   [x] ~~화분 물 주기~~\n",
        "-   [ ] 밀린 일기 작성\n",
        "\n",
        "## 링크 넣는 법\n",
        "\n",
        "[슬기로운 통계 생활](https://staticsticsplaybook.com/)\n",
        "\n",
        "## 이미지 넣는 법\n",
        "\n",
        "![위키피디아 흑요석](./는%20프로젝트%20폴더%20안을%20의미함)\n",
        "\n",
        "## 수식 입력 방법\n",
        "\n",
        "* 인라인 수식: $ 하나로 감싸준다 (본문에 입력)\n",
        "* 디스플레이 수식: $ 두 개로 감싸준다 (독립적인 문단)\n",
        "\n",
        "문장 안에 숫자 $5^2$를 넣어보자.\n",
        "\n",
        "$$\n",
        "\\dot{a}\n",
        "$$\n",
        "\n",
        "\n",
        "\n",
        "## Running Code\n",
        "\n",
        "When you click the **Render** button a document will be generated that includes both content and the output of embedded code. You can embed code like this:\n"
      ],
      "id": "a9aeeed7"
    },
    {
      "cell_type": "code",
      "metadata": {},
      "source": [
        "1 + 1"
      ],
      "id": "2efee7d2",
      "execution_count": null,
      "outputs": []
    },
    {
      "cell_type": "markdown",
      "metadata": {},
      "source": [
        "You can add options to executable code like this\n"
      ],
      "id": "b3deb487"
    },
    {
      "cell_type": "code",
      "metadata": {},
      "source": [
        "#| echo: false\n",
        "2 * 2"
      ],
      "id": "58946410",
      "execution_count": null,
      "outputs": []
    },
    {
      "cell_type": "markdown",
      "metadata": {},
      "source": [
        "The `echo: false` option disables the printing of code (only output is displayed)."
      ],
      "id": "8a2a3a7d"
    }
  ],
  "metadata": {
    "kernelspec": {
      "display_name": "Python 3",
      "language": "python",
      "name": "python3"
    }
  },
  "nbformat": 4,
  "nbformat_minor": 5
}